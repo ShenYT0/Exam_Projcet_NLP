{
  "nbformat": 4,
  "nbformat_minor": 0,
  "metadata": {
    "colab": {
      "provenance": []
    },
    "kernelspec": {
      "name": "python3",
      "display_name": "Python 3"
    },
    "language_info": {
      "name": "python"
    }
  },
  "cells": [
    {
      "cell_type": "code",
      "execution_count": 24,
      "metadata": {
        "colab": {
          "base_uri": "https://localhost:8080/"
        },
        "id": "KMHbmv3GUlud",
        "outputId": "366b45df-9f31-475f-8885-b7a5cd71d541"
      },
      "outputs": [
        {
          "output_type": "stream",
          "name": "stderr",
          "text": [
            "/usr/local/lib/python3.10/dist-packages/transformers/models/marian/tokenization_marian.py:175: UserWarning: Recommended: pip install sacremoses.\n",
            "  warnings.warn(\"Recommended: pip install sacremoses.\")\n"
          ]
        }
      ],
      "source": [
        "import time\n",
        "from transformers import MarianMTModel, MarianTokenizer\n",
        "\n",
        "# Start time for loading model and tokenizer\n",
        "start_load_time = time.time()\n",
        "\n",
        "model_name = 'Helsinki-NLP/opus-mt-ja-en'\n",
        "tokenizer = MarianTokenizer.from_pretrained(model_name)\n",
        "model = MarianMTModel.from_pretrained(model_name)\n",
        "\n",
        "# End time for loading model and tokenizer\n",
        "end_load_time = time.time()\n"
      ]
    },
    {
      "cell_type": "code",
      "source": [
        "# Sentence to translate\n",
        "sentence = \"日本語では、友達と話すときと、会社で話すときは、かなり違う言い回しを使うことが一般的です。\"\n",
        "\n",
        "tokens = tokenizer.tokenize(sentence)\n",
        "print(tokens)"
      ],
      "metadata": {
        "colab": {
          "base_uri": "https://localhost:8080/"
        },
        "id": "jjiMkhkNpo6x",
        "outputId": "89a49484-5fa3-4d45-ac25-b14209792888"
      },
      "execution_count": 25,
      "outputs": [
        {
          "output_type": "stream",
          "name": "stdout",
          "text": [
            "['▁日本', '語', 'では', '、', '友達', 'と', '話す', 'とき', 'と', '、', '会社', 'で', '話す', 'とき', 'は', '、', 'かなり', '違う', '言い', '回し', 'を', '使う', 'ことが', '一般的', 'です', '。']\n"
          ]
        }
      ]
    },
    {
      "cell_type": "code",
      "source": [
        "# Start time for tokenization\n",
        "start_tokenization_time = time.time()\n",
        "\n",
        "# Time for setting up data for model\n",
        "\n",
        "prepared_input = tokenizer(sentence, return_tensors=\"pt\", truncation=True)\n",
        "\n",
        "# End time for tokenization\n",
        "end_tokenization_time = time.time()\n",
        "\n",
        "# Start time for translation\n",
        "start_translation_time = time.time()\n",
        "\n",
        "# Translation\n",
        "translated = model.generate(**tokenizer(sentence, return_tensors=\"pt\", truncation=True))\n",
        "\n",
        "# End time for translation\n",
        "end_translation_time = time.time()\n",
        "\n",
        "# Decoding the translation\n",
        "translated_text = tokenizer.decode(translated[0], skip_special_tokens=True)\n",
        "print(translated_text)\n",
        "\n",
        "# Printing time taken for each step\n",
        "print(\"Loading Time: {:.4f} seconds\".format(end_load_time - start_load_time))\n",
        "print(\"Tokenization Time: {:.4f} seconds\".format(end_tokenization_time - start_tokenization_time))\n",
        "print(\"Translation Time: {:.4f} seconds\".format(end_translation_time - start_translation_time))\n",
        "print(\"Total Runtime: {:.4f} seconds\".format(end_translation_time - start_load_time))\n"
      ],
      "metadata": {
        "colab": {
          "base_uri": "https://localhost:8080/"
        },
        "id": "fE-gZd5opYoH",
        "outputId": "e8d0fac4-fcce-444a-8c48-db70c58d2f79"
      },
      "execution_count": 26,
      "outputs": [
        {
          "output_type": "stream",
          "name": "stdout",
          "text": [
            "In Japanese, it is common to use very different words when talking to friends and when talking to them at work.\n",
            "Loading Time: 6.9182 seconds\n",
            "Tokenization Time: 0.0009 seconds\n",
            "Translation Time: 1.6699 seconds\n",
            "Total Runtime: 25.2373 seconds\n"
          ]
        }
      ]
    },
    {
      "cell_type": "code",
      "source": [
        "import time\n",
        "from transformers import MBartForConditionalGeneration, MBart50TokenizerFast\n",
        "\n",
        "# Start time for loading model and tokenizer\n",
        "start_load_time = time.time()\n",
        "\n",
        "model_name_fb = \"facebook/mbart-large-50-many-to-many-mmt\"\n",
        "tokenizer_fb = MBart50TokenizerFast.from_pretrained(model_name_fb)\n",
        "model_fb = MBartForConditionalGeneration.from_pretrained(model_name_fb)\n",
        "\n",
        "# End time for loading model and tokenizer\n",
        "end_load_time = time.time()\n",
        "\n"
      ],
      "metadata": {
        "id": "Lhile5MgUwfN"
      },
      "execution_count": 27,
      "outputs": []
    },
    {
      "cell_type": "code",
      "source": [
        "sentence = \"日本語では、友達と話すときと、会社で話すときは、かなり違う言い回しを使うことが一般的です。\"\n",
        "\n",
        "tokens_fb = tokenizer_fb.tokenize(sentence)\n",
        "print(tokens_fb)\n"
      ],
      "metadata": {
        "colab": {
          "base_uri": "https://localhost:8080/"
        },
        "id": "33T1dbWiqlpS",
        "outputId": "ac6d1e84-b30f-4c12-8572-a7037f23779b"
      },
      "execution_count": 28,
      "outputs": [
        {
          "output_type": "stream",
          "name": "stdout",
          "text": [
            "['▁', '日本語', 'では', '、', '友達', 'と', '話す', 'とき', 'と', '、', '会社', 'で', '話す', 'ときは', '、', 'かなり', '違う', '言い', '回', 'し', 'を使う', 'ことが', '一般的', 'です', '。']\n"
          ]
        }
      ]
    },
    {
      "cell_type": "code",
      "source": [
        "\n",
        "source_lang = \"ja_XX\"\n",
        "target_lang = \"en_XX\"\n",
        "tokenizer_fb.src_lang = source_lang\n",
        "\n",
        "# Start time for tokenization\n",
        "start_tokenization_time = time.time()\n",
        "\n",
        "# Tokenize the input text\n",
        "inputs = tokenizer_fb(sentence, return_tensors=\"pt\")\n",
        "\n",
        "# End time for tokenization\n",
        "end_tokenization_time = time.time()\n",
        "\n",
        "# Start time for translation\n",
        "start_translation_time = time.time()\n",
        "\n",
        "# Generate translation tokens\n",
        "translated_tokens = model_fb.generate(**inputs, forced_bos_token_id=tokenizer_fb.lang_code_to_id[target_lang])\n",
        "\n",
        "# End time for translation\n",
        "end_translation_time = time.time()\n",
        "\n",
        "# Decode the translated tokens to text\n",
        "translated_text = tokenizer_fb.decode(translated_tokens[0], skip_special_tokens=True)\n",
        "print(translated_text)\n",
        "\n",
        "# Printing time taken for each step\n",
        "print(\"Loading Time: {:.4f} seconds\".format(end_load_time - start_load_time))\n",
        "print(\"Tokenization Time: {:.4f} seconds\".format(end_tokenization_time - start_tokenization_time))\n",
        "print(\"Translation Time: {:.4f} seconds\".format(end_translation_time - start_translation_time))\n",
        "print(\"Total Runtime: {:.4f} seconds\".format(end_translation_time - start_load_time))\n"
      ],
      "metadata": {
        "colab": {
          "base_uri": "https://localhost:8080/"
        },
        "id": "L9E-FAkCqqTZ",
        "outputId": "e545f25e-79a4-4965-d027-f64499db3ca2"
      },
      "execution_count": 29,
      "outputs": [
        {
          "output_type": "stream",
          "name": "stdout",
          "text": [
            "In Japanese, it is common to use quite different phrases when talking with friends and when talking at a company.\n",
            "Loading Time: 10.8278 seconds\n",
            "Tokenization Time: 0.0008 seconds\n",
            "Translation Time: 13.5508 seconds\n",
            "Total Runtime: 33.4388 seconds\n"
          ]
        }
      ]
    },
    {
      "cell_type": "markdown",
      "source": [],
      "metadata": {
        "id": "Rwe5enWFWOEU"
      }
    }
  ]
}