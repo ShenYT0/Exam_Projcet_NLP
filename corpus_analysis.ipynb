{
 "cells": [
  {
   "cell_type": "markdown",
   "metadata": {},
   "source": [
    "# Corpus Analysis\n",
    "\n",
    "## Corpus Business Scene Dialogue\n",
    "\n",
    "https://paperswithcode.com/dataset/business-scene-dialogue\n",
    "\n",
    "Corpus parallèle anglais-japonais contenant des dialogues issus de différents scénarios commerciaux."
   ]
  },
  {
   "cell_type": "code",
   "execution_count": null,
   "metadata": {},
   "outputs": [
    {
     "name": "stderr",
     "output_type": "stream",
     "text": [
      "Cloning into 'BSD'...\n"
     ]
    }
   ],
   "source": [
    "# Arthor: Yuntian Shen\n",
    "!git clone https://github.com/tsuruoka-lab/BSD.git"
   ]
  },
  {
   "cell_type": "code",
   "execution_count": 7,
   "metadata": {},
   "outputs": [],
   "source": [
    "corpus_path = {\n",
    "    \"train\": \"./BSD/train.json\",\n",
    "    \"dev\": \"./BSD/dev.json\",\n",
    "    \"test\": \"./BSD/test.json\"\n",
    "}"
   ]
  },
  {
   "cell_type": "markdown",
   "metadata": {},
   "source": [
    "###  Type de Données / Taille"
   ]
  },
  {
   "cell_type": "code",
   "execution_count": 8,
   "metadata": {},
   "outputs": [
    {
     "name": "stdout",
     "output_type": "stream",
     "text": [
      "File type: application/json\n",
      "File size: 6.57 MB\n",
      "File type: application/json\n",
      "File size: 0.67 MB\n",
      "File type: application/json\n",
      "File size: 0.69 MB\n"
     ]
    }
   ],
   "source": [
    "import os\n",
    "import mimetypes\n",
    "\n",
    "def get_file_info(file_path):\n",
    "    file_size_bytes = os.path.getsize(file_path)\n",
    "    # 1 mb = 1024² bytes\n",
    "    file_size_mb = file_size_bytes / (1024 * 1024)\n",
    "\n",
    "    # MIME type\n",
    "    file_type, _ = mimetypes.guess_type(file_path)\n",
    "\n",
    "    print(f\"File type: {file_type}\")\n",
    "    print(f\"File size: {file_size_mb:.2f} MB\")\n",
    "\n",
    "    return file_type, file_size_mb\n",
    "\n",
    "\n",
    "for split in corpus_path.keys():\n",
    "    file_path = corpus_path[split]\n",
    "    get_file_info(file_path)\n"
   ]
  },
  {
   "cell_type": "code",
   "execution_count": 9,
   "metadata": {},
   "outputs": [
    {
     "data": {
      "text/plain": [
       "DatasetDict({\n",
       "    train: Dataset({\n",
       "        features: ['tag', 'title', 'id', 'conversation', 'original_language'],\n",
       "        num_rows: 670\n",
       "    })\n",
       "    dev: Dataset({\n",
       "        features: ['tag', 'title', 'id', 'conversation', 'original_language'],\n",
       "        num_rows: 69\n",
       "    })\n",
       "    test: Dataset({\n",
       "        features: ['tag', 'title', 'id', 'conversation', 'original_language'],\n",
       "        num_rows: 69\n",
       "    })\n",
       "})"
      ]
     },
     "execution_count": 9,
     "metadata": {},
     "output_type": "execute_result"
    }
   ],
   "source": [
    "from datasets import load_dataset\n",
    "\n",
    "dataset = load_dataset(\"json\", data_files=corpus_path)\n",
    "\n",
    "dataset"
   ]
  },
  {
   "cell_type": "code",
   "execution_count": 10,
   "metadata": {},
   "outputs": [
    {
     "data": {
      "text/plain": [
       "{'tag': 'phone call',\n",
       " 'title': '伝言への折り返し電話\\u3000打ち合わせ日程調整',\n",
       " 'id': '190329_J07_03',\n",
       " 'conversation': [{'en_sentence': 'Hi this is the systems development department of Company K.',\n",
       "   'en_speaker': 'Doi-san',\n",
       "   'ja_sentence': 'はい、K社システム開発部です。',\n",
       "   'ja_speaker': '土井さん',\n",
       "   'no': 1},\n",
       "  {'en_sentence': 'My name is Takaichi from Company H.',\n",
       "   'en_speaker': 'Takaichi-san',\n",
       "   'ja_sentence': 'H社の高市と申します。',\n",
       "   'ja_speaker': '高市さん',\n",
       "   'no': 2},\n",
       "  {'en_sentence': 'Thank you as always.',\n",
       "   'en_speaker': 'Takaichi-san',\n",
       "   'ja_sentence': 'いつもお世話になっております。',\n",
       "   'ja_speaker': '高市さん',\n",
       "   'no': 3},\n",
       "  {'en_sentence': 'Thank you as always as well.',\n",
       "   'en_speaker': 'Doi-san',\n",
       "   'ja_sentence': 'こちらこそ、お世話になっております。',\n",
       "   'ja_speaker': '土井さん',\n",
       "   'no': 4},\n",
       "  {'en_sentence': 'Is Inada-san there?',\n",
       "   'en_speaker': 'Takaichi-san',\n",
       "   'ja_sentence': '稲田さんはいらっしゃいますか？',\n",
       "   'ja_speaker': '高市さん',\n",
       "   'no': 5},\n",
       "  {'en_sentence': 'It seems I got a call from him around 1 hour ago.',\n",
       "   'en_speaker': 'Takaichi-san',\n",
       "   'ja_sentence': '1時間ほど前に、お電話いただいたそうなんですけど。',\n",
       "   'ja_speaker': '高市さん',\n",
       "   'no': 6},\n",
       "  {'en_sentence': 'Yes, let me switch you over.',\n",
       "   'en_speaker': 'Doi-san',\n",
       "   'ja_sentence': 'はい、代わります。',\n",
       "   'ja_speaker': '土井さん',\n",
       "   'no': 7},\n",
       "  {'en_sentence': 'Please wait a moment.',\n",
       "   'en_speaker': 'Doi-san',\n",
       "   'ja_sentence': '少々お待ちください。',\n",
       "   'ja_speaker': '土井さん',\n",
       "   'no': 8},\n",
       "  {'en_sentence': 'Inada-san, you have a call from Mr. Takaichi of Company H.',\n",
       "   'en_speaker': 'Doi-san',\n",
       "   'ja_sentence': '稲田さん、H社の高市様からお電話です。',\n",
       "   'ja_speaker': '土井さん',\n",
       "   'no': 9},\n",
       "  {'en_sentence': 'Hello, this is Inada.',\n",
       "   'en_speaker': 'Inada-san',\n",
       "   'ja_sentence': 'もしもし、稲田です。',\n",
       "   'ja_speaker': '稲田さん',\n",
       "   'no': 10},\n",
       "  {'en_sentence': 'This is Takaichi from Company H.',\n",
       "   'en_speaker': 'Takaichi-san',\n",
       "   'ja_sentence': 'H社の高市です。',\n",
       "   'ja_speaker': '高市さん',\n",
       "   'no': 11},\n",
       "  {'en_sentence': 'Thank you.',\n",
       "   'en_speaker': 'Takaichi-san',\n",
       "   'ja_sentence': 'お世話様でーす。',\n",
       "   'ja_speaker': '高市さん',\n",
       "   'no': 12},\n",
       "  {'en_sentence': 'Thank you as always.',\n",
       "   'en_speaker': 'Inada-san',\n",
       "   'ja_sentence': 'お世話様でーす。',\n",
       "   'ja_speaker': '稲田さん',\n",
       "   'no': 13},\n",
       "  {'en_sentence': 'Thank you for the call earlier.',\n",
       "   'en_speaker': 'Takaichi-san',\n",
       "   'ja_sentence': 'さっきはお電話ありがとうございました。',\n",
       "   'ja_speaker': '高市さん',\n",
       "   'no': 14},\n",
       "  {'en_sentence': 'Sorry I was out.',\n",
       "   'en_speaker': 'Takaichi-san',\n",
       "   'ja_sentence': '外出していて、すみませんでした。',\n",
       "   'ja_speaker': '高市さん',\n",
       "   'no': 15},\n",
       "  {'en_sentence': \"Not at all, I'm also sorry for calling when you were busy.\",\n",
       "   'en_speaker': 'Inada-san',\n",
       "   'ja_sentence': 'いいえ、こちらこそ、お忙しいところすみません。',\n",
       "   'ja_speaker': '稲田さん',\n",
       "   'no': 16},\n",
       "  {'en_sentence': 'We are going to Company A next Monday, right?',\n",
       "   'en_speaker': 'Inada-san',\n",
       "   'ja_sentence': 'A社さんへ行くのって、来週月曜日でしたよね？',\n",
       "   'ja_speaker': '稲田さん',\n",
       "   'no': 17},\n",
       "  {'en_sentence': 'I thought we should maybe have a meeting once for that.',\n",
       "   'en_speaker': 'Inada-san',\n",
       "   'ja_sentence': 'その打ち合わせ、一度したほうがいいと思いまして。',\n",
       "   'ja_speaker': '稲田さん',\n",
       "   'no': 18},\n",
       "  {'en_sentence': \"Right, let's do it.\",\n",
       "   'en_speaker': 'Takaichi-san',\n",
       "   'ja_sentence': 'そうですね、しましょう。',\n",
       "   'ja_speaker': '高市さん',\n",
       "   'no': 19},\n",
       "  {'en_sentence': 'We have to prepare materials too so we should do it earlier.',\n",
       "   'en_speaker': 'Takaichi-san',\n",
       "   'ja_sentence': '資料の準備もあるから、早い方がいいですよね。',\n",
       "   'ja_speaker': '高市さん',\n",
       "   'no': 20},\n",
       "  {'en_sentence': 'Takaichi-san, you said you are available anytime?',\n",
       "   'en_speaker': 'Inada-san',\n",
       "   'ja_sentence': '高市さんはいつでもいいって、おっしゃってたんでしたっけ。',\n",
       "   'ja_speaker': '稲田さん',\n",
       "   'no': 21},\n",
       "  {'en_sentence': 'Yes, when is good for you, Inada-san?',\n",
       "   'en_speaker': 'Takaichi-san',\n",
       "   'ja_sentence': 'はい、稲田さんはいつがいいですか？',\n",
       "   'ja_speaker': '高市さん',\n",
       "   'no': 22},\n",
       "  {'en_sentence': 'If it is soon then...',\n",
       "   'en_speaker': 'Inada-san',\n",
       "   'ja_sentence': 'えーと、直近だと・・・',\n",
       "   'ja_speaker': '稲田さん',\n",
       "   'no': 23},\n",
       "  {'en_sentence': 'How about around ten thirty in the morning tomorrow?',\n",
       "   'en_speaker': 'Inada-san',\n",
       "   'ja_sentence': '明日の午前中、10時半頃からだといかがですか？',\n",
       "   'ja_speaker': '稲田さん',\n",
       "   'no': 24},\n",
       "  {'en_sentence': 'I will go to your place.',\n",
       "   'en_speaker': 'Inada-san',\n",
       "   'ja_sentence': '私、そちらに伺えます。',\n",
       "   'ja_speaker': '稲田さん',\n",
       "   'no': 25},\n",
       "  {'en_sentence': 'Really?',\n",
       "   'en_speaker': 'Takaichi-san',\n",
       "   'ja_sentence': 'ほんとですか？',\n",
       "   'ja_speaker': '高市さん',\n",
       "   'no': 26},\n",
       "  {'en_sentence': 'Sorry for the trouble.',\n",
       "   'en_speaker': 'Takaichi-san',\n",
       "   'ja_sentence': 'わざわざすみません。',\n",
       "   'ja_speaker': '高市さん',\n",
       "   'no': 27},\n",
       "  {'en_sentence': 'I was thinking I can go to your place though.',\n",
       "   'en_speaker': 'Takaichi-san',\n",
       "   'ja_sentence': '私がそっちに行ってもいいと思っていたんですけど。',\n",
       "   'ja_speaker': '高市さん',\n",
       "   'no': 28},\n",
       "  {'en_sentence': \"It's okay, it's close.\",\n",
       "   'en_speaker': 'Inada-san',\n",
       "   'ja_sentence': '大丈夫ですよ、近いですし。',\n",
       "   'ja_speaker': '稲田さん',\n",
       "   'no': 29},\n",
       "  {'en_sentence': 'Okay, I will go to your place around ten thirty tomorrow.',\n",
       "   'en_speaker': 'Inada-san',\n",
       "   'ja_sentence': 'じゃあ、明日の10時半ごろ、お伺いしますね。',\n",
       "   'ja_speaker': '稲田さん',\n",
       "   'no': 30},\n",
       "  {'en_sentence': 'Okay, got it.',\n",
       "   'en_speaker': 'Takaichi-san',\n",
       "   'ja_sentence': 'はい、分かりました。',\n",
       "   'ja_speaker': '高市さん',\n",
       "   'no': 31},\n",
       "  {'en_sentence': 'Thank you very much.',\n",
       "   'en_speaker': 'Takaichi-san',\n",
       "   'ja_sentence': 'ありがとうございます。',\n",
       "   'ja_speaker': '高市さん',\n",
       "   'no': 32},\n",
       "  {'en_sentence': \"Alright, I'll wait for you tomorrow.\",\n",
       "   'en_speaker': 'Takaichi-san',\n",
       "   'ja_sentence': 'じゃ、明日、お待ちしてます。',\n",
       "   'ja_speaker': '高市さん',\n",
       "   'no': 33},\n",
       "  {'en_sentence': 'Thank you.',\n",
       "   'en_speaker': 'Takaichi-san',\n",
       "   'ja_sentence': 'よろしくお願いします。',\n",
       "   'ja_speaker': '高市さん',\n",
       "   'no': 34},\n",
       "  {'en_sentence': 'Thank you.',\n",
       "   'en_speaker': 'Inada-san',\n",
       "   'ja_sentence': 'よろしくお願いします。',\n",
       "   'ja_speaker': '稲田さん',\n",
       "   'no': 35}],\n",
       " 'original_language': 'ja'}"
      ]
     },
     "execution_count": 10,
     "metadata": {},
     "output_type": "execute_result"
    }
   ],
   "source": [
    "dataset[\"train\"][0]"
   ]
  },
  {
   "cell_type": "markdown",
   "metadata": {},
   "source": [
    "Il a été observé que le corpus ne contient pas de prétraitement tel que la **tokenisation**, la **lemmatisation** ou la **suppression des stopwords**."
   ]
  },
  {
   "cell_type": "code",
   "execution_count": 2,
   "metadata": {},
   "outputs": [],
   "source": [
    "from datasets import load_dataset\n",
    "\n",
    "dataset_hg = load_dataset(\"ryo0634/bsd_ja_en\")"
   ]
  },
  {
   "cell_type": "code",
   "execution_count": 3,
   "metadata": {},
   "outputs": [
    {
     "data": {
      "text/plain": [
       "DatasetDict({\n",
       "    train: Dataset({\n",
       "        features: ['id', 'tag', 'title', 'original_language', 'no', 'en_speaker', 'ja_speaker', 'en_sentence', 'ja_sentence'],\n",
       "        num_rows: 20000\n",
       "    })\n",
       "    test: Dataset({\n",
       "        features: ['id', 'tag', 'title', 'original_language', 'no', 'en_speaker', 'ja_speaker', 'en_sentence', 'ja_sentence'],\n",
       "        num_rows: 2120\n",
       "    })\n",
       "    validation: Dataset({\n",
       "        features: ['id', 'tag', 'title', 'original_language', 'no', 'en_speaker', 'ja_speaker', 'en_sentence', 'ja_sentence'],\n",
       "        num_rows: 2051\n",
       "    })\n",
       "})"
      ]
     },
     "execution_count": 3,
     "metadata": {},
     "output_type": "execute_result"
    }
   ],
   "source": [
    "dataset_hg"
   ]
  },
  {
   "cell_type": "code",
   "execution_count": 4,
   "metadata": {},
   "outputs": [
    {
     "data": {
      "text/plain": [
       "{'id': '190329_J07_03',\n",
       " 'tag': 'phone call',\n",
       " 'title': '伝言への折り返し電話\\u3000打ち合わせ日程調整',\n",
       " 'original_language': 'ja',\n",
       " 'no': 1,\n",
       " 'en_speaker': 'Doi-san',\n",
       " 'ja_speaker': '土井さん',\n",
       " 'en_sentence': 'Hi this is the systems development department of Company K.',\n",
       " 'ja_sentence': 'はい、K社システム開発部です。'}"
      ]
     },
     "execution_count": 4,
     "metadata": {},
     "output_type": "execute_result"
    }
   ],
   "source": [
    "dataset_hg[\"train\"][0]"
   ]
  },
  {
   "cell_type": "markdown",
   "metadata": {},
   "source": [
    "Nous avons constaté que la structure des données est légèrement différente sur HuggingFace et sur GitHub, mais que le contenu est le même."
   ]
  },
  {
   "cell_type": "markdown",
   "metadata": {},
   "source": [
    "## Description Statistique\n",
    "### Distribution des Classes"
   ]
  },
  {
   "cell_type": "code",
   "execution_count": 12,
   "metadata": {},
   "outputs": [],
   "source": [
    "from collections import Counter\n",
    "import numpy as np\n",
    "import matplotlib.pyplot as plt\n",
    "\n",
    "def draw_tag_distribution(split, count_by):\n",
    "    tag_counts = Counter()\n",
    "    for item in dataset[split]:\n",
    "        tag = item[\"tag\"]\n",
    "        language = item[\"original_language\"]\n",
    "        # Count the number of sentences in the conversation\n",
    "        tag_counts[(tag, language)] += len(item[\"conversation\"]) if count_by == \"sentence\" else 1\n",
    "\n",
    "    tags = list(set(tag for tag, _ in tag_counts.keys()))\n",
    "    ja_counts = [tag_counts.get((tag, \"ja\"), 0) for tag in tags]\n",
    "    en_counts = [tag_counts.get((tag, \"en\"), 0) for tag in tags]\n",
    "\n",
    "    # plotting\n",
    "    bar_width = 0.35\n",
    "    x = np.arange(len(tags))\n",
    "\n",
    "    plt.figure(figsize=(12, 6))\n",
    "    bars1 = plt.bar(x - bar_width/2, ja_counts, width=bar_width, label=\"ja\", color=\"pink\")\n",
    "    bars2 = plt.bar(x + bar_width/2, en_counts, width=bar_width, label=\"en\", color=\"skyblue\")\n",
    "\n",
    "    plt.xlabel(\"Tags\") \n",
    "    plt.ylabel(\"Sentences\" if count_by == \"sentence\" else \"Scenarios\")\n",
    "    plt.title(\"Tag Distribution by Language (Sentence) - \" + split)\n",
    "    plt.xticks(x, tags, rotation=45)\n",
    "    plt.legend(title=\"Original Language\")\n",
    "\n",
    "    # Add data labels above each bar\n",
    "    for bars in (bars1, bars2):\n",
    "        for bar in bars:\n",
    "            plt.text(\n",
    "                bar.get_x() + bar.get_width() / 2, # x position\n",
    "                bar.get_height() + 0.2, # y position\n",
    "                str(int(bar.get_height())), # data label\n",
    "                ha='center', # horizontal alignment\n",
    "                va='bottom' # vertical alignment\n",
    "            )\n",
    "\n",
    "    plt.tight_layout()\n",
    "    plt.show()"
   ]
  },
  {
   "cell_type": "code",
   "execution_count": 36,
   "metadata": {},
   "outputs": [
    {
     "data": {
      "image/png": "[encoded data removed]",
      "text/plain": [
       "<Figure size 1200x600 with 1 Axes>"
      ]
     },
     "metadata": {},
     "output_type": "display_data"
    },
    {
     "data": {
      "image/png": "[encoded data removed]",
      "text/plain": [
       "<Figure size 1200x600 with 1 Axes>"
      ]
     },
     "metadata": {},
     "output_type": "display_data"
    }
   ],
   "source": [
    "draw_tag_distribution(\"train\", \"scenario\")\n",
    "draw_tag_distribution(\"train\", \"sentence\")"
   ]
  },
  {
   "cell_type": "markdown",
   "metadata": {},
   "source": [
    "Dans ces deux graphiques, on peut observer des différences de distribution entre le japonais (ja) et l'anglais (en) dans différents types de dialogues (tags).\n",
    "\n",
    "1. **Le premier graphique** montre le nombre de scénarios pour chaque type de dialogue. On peut voir que la répartition entre le japonais et l'anglais est relativement similaire pour la plupart des tags, notamment pour \"meeting\" et \"phone call\". Cependant, pour le tag \"face-to-face conversation\", le nombre de scénarios en japonais est nettement plus élevé que celui en anglais, ce qui indique une plus grande utilisation du japonais dans ce type de dialogue.\n",
    "\n",
    "2. **Le deuxième graphique** montre le nombre de phrases dans chaque type de dialogue. On remarque que, pour le tag \"face-to-face conversation\", le nombre de phrases en japonais est significativement plus élevé que celui en anglais, ce qui renforce l'observation selon laquelle le japonais est plus fréquemment utilisé dans ce contexte. Par ailleurs, pour les autres types de dialogue, le nombre de phrases en japonais et en anglais est relativement proche, ce qui peut indiquer que les modes de communication ou la structure des dialogues sont similaires dans ces contextes.\n",
    "\n",
    "**Conclusion** : Dans l'ensemble, la répartition des scénarios et des phrases par type de dialogue est assez similaire entre le japonais et l'anglais, mais il existe quelques différences marquées, notamment dans le cas des conversations en face-à-face, où l'utilisation du japonais est plus fréquente. Cela peut refléter une préférence pour l'utilisation du japonais dans certaines situations spécifiques dans le corpus."
   ]
  },
  {
   "cell_type": "markdown",
   "metadata": {},
   "source": [
    "### Fréquence des Mots"
   ]
  },
  {
   "cell_type": "code",
   "execution_count": 13,
   "metadata": {},
   "outputs": [],
   "source": [
    "import matplotlib.font_manager as fm\n",
    "# Default font in matplotlib does not support Hiragana/Katakana/Kanji\n",
    "font_path = \"Noto_Sans_JP/NotoSansJP-VariableFont_wght.ttf\"\n",
    "\n",
    "# Add the font to matplotlib\n",
    "fm.fontManager.addfont(font_path)\n",
    "plt.rcParams['font.family'] = fm.FontProperties(fname=font_path).get_name()"
   ]
  },
  {
   "cell_type": "markdown",
   "metadata": {},
   "source": [
    "https://www.kaggle.com/datasets/lazon282/japanese-stop-words\n",
    "\n",
    "https://countwordsfree.com/stopwords/japanese\n",
    "\n",
    "https://github.com/stopwords-iso/stopwords-ja\n",
    "\n",
    "https://github.com/stopwords/japanese-stopwords\n",
    "\n",
    "https://github.com/6/stopwords-json/blob/master/dist/ja.json"
   ]
  },
  {
   "cell_type": "code",
   "execution_count": 43,
   "metadata": {},
   "outputs": [
    {
     "name": "stderr",
     "output_type": "stream",
     "text": [
      "[nltk_data] Downloading package stopwords to\n",
      "[nltk_data]     C:\\Users\\Shen\\AppData\\Roaming\\nltk_data...\n",
      "[nltk_data]   Package stopwords is already up-to-date!\n"
     ]
    }
   ],
   "source": [
    "import nltk\n",
    "nltk.download(\"stopwords\")\n",
    "\n",
    "from nltk.corpus import stopwords\n",
    "\n",
    "en_stopwords = set(stopwords.words('english'))\n",
    "\n",
    "ja_stopwords = set()\n",
    "\n",
    "import os\n",
    "import json\n",
    "\n",
    "directory = \"./JP_stopwords\"\n",
    "\n",
    "for filename in os.listdir(directory):\n",
    "    if filename.endswith('.txt'):\n",
    "        file_path = os.path.join(directory, filename)\n",
    "        with open(file_path, 'r', encoding='utf-8') as file:\n",
    "            for line in file:\n",
    "                ja_stopwords.add(line.strip())\n",
    "    elif filename.endswith('.json'):\n",
    "        file_path = os.path.join(directory, filename)\n",
    "        with open(file_path, 'r', encoding='utf-8') as file:\n",
    "            data = json.load(file)\n",
    "            for word in data:\n",
    "                ja_stopwords.add(word)"
   ]
  },
  {
   "cell_type": "code",
   "execution_count": 22,
   "metadata": {},
   "outputs": [],
   "source": [
    "import string\n",
    "\n",
    "fullwidth_punctuation = \"、。！？：；「」『』（）［］｛｝〜\"\n",
    "\n",
    "punctuation = string.punctuation + fullwidth_punctuation"
   ]
  },
  {
   "cell_type": "code",
   "execution_count": 45,
   "metadata": {},
   "outputs": [],
   "source": [
    "from transformers import AutoTokenizer\n",
    "\n",
    "en_tokenizer = AutoTokenizer.from_pretrained(\"bert-base-uncased\")\n",
    "ja_tokenizer = AutoTokenizer.from_pretrained(\"cl-tohoku/bert-base-japanese\")\n",
    "\n",
    "def draw_word_frequency(split):\n",
    "    en_counter = Counter()\n",
    "    ja_counter = Counter()\n",
    "\n",
    "    for item in dataset[split]:\n",
    "        for turn in item[\"conversation\"]:\n",
    "            en_tokens = en_tokenizer.tokenize(turn['en_sentence'].lower())\n",
    "            en_tokens = [token for token in en_tokens if token not in en_stopwords and token not in punctuation and '#' not in token]\n",
    "            en_counter.update(en_tokens)\n",
    "            \n",
    "            ja_tokens = ja_tokenizer.tokenize(turn['ja_sentence'])\n",
    "            ja_tokens = [token for token in ja_tokens if token not in ja_stopwords and token not in punctuation and '#' not in token]\n",
    "            ja_counter.update(ja_tokens)\n",
    "\n",
    "    print(\"Top 10 English words:\", en_counter.most_common(10))\n",
    "    print(\"Top 10 Japanese words:\", ja_counter.most_common(10))\n",
    "\n",
    "    en_words, en_counts = zip(*en_counter.most_common(10))\n",
    "    ja_words, ja_counts = zip(*ja_counter.most_common(10))\n",
    "\n",
    "    # Plot English word frequencies\n",
    "    plt.figure(figsize=(12, 6))\n",
    "    plt.subplot(1, 2, 1)  # 1 row, 2 columns, 1st subplot\n",
    "    plt.bar(en_words, en_counts, color='skyblue')\n",
    "    plt.xlabel(\"Words\")\n",
    "    plt.ylabel(\"Frequency\")\n",
    "    plt.title(\"Top 10 English Words Frequency - \" + split)\n",
    "    plt.xticks(rotation=45)\n",
    "\n",
    "    # Plot Japanese word frequencies\n",
    "    plt.subplot(1, 2, 2)  # 1 row, 2 columns, 2nd subplot\n",
    "    plt.bar(ja_words, ja_counts, color='pink')\n",
    "    plt.xlabel(\"Words\")\n",
    "    plt.ylabel(\"Frequency\")\n",
    "    plt.title(\"Top 10 Japanese Words Frequency - \" + split)\n",
    "    plt.xticks(rotation=45)\n",
    "\n",
    "    plt.tight_layout()\n",
    "    plt.show()"
   ]
  },
  {
   "cell_type": "code",
   "execution_count": 46,
   "metadata": {},
   "outputs": [
    {
     "name": "stdout",
     "output_type": "stream",
     "text": [
      "Top 10 English words: [('company', 1045), ('yes', 830), ('like', 813), ('thank', 770), ('would', 733), ('right', 704), ('think', 688), ('know', 679), ('good', 665), ('well', 664)]\n",
      "Top 10 Japanese words: [('いい', 994), ('はい', 808), ('どう', 772), ('社', 749), ('ありがとう', 584), ('けど', 569), ('いただ', 552), ('ください', 537), ('思い', 528), ('つい', 496)]\n"
     ]
    },
    {
     "data": {
      "image/png": "[encoded data removed]",
      "text/plain": [
       "<Figure size 1200x600 with 2 Axes>"
      ]
     },
     "metadata": {},
     "output_type": "display_data"
    }
   ],
   "source": [
    "draw_word_frequency(\"train\")"
   ]
  },
  {
   "cell_type": "markdown",
   "metadata": {},
   "source": [
    "Dans ce corpus parallèle, les résultats de la fréquence des mots en anglais et en japonais révèlent certains aspects intéressants :\n",
    "\n",
    "1. **Expressions courantes** : Les deux langues incluent des mots fréquemment utilisés dans la communication. Par exemple, en anglais, on retrouve \"yes\" (oui) et \"thank\" (merci), tandis qu’en japonais, \"はい\" (oui) et \"ありがとう\" (merci) apparaissent parmi les mots les plus fréquents, ce qui montre leur omniprésence dans les conversations.\n",
    "\n",
    "2. **Expression des émotions et des attitudes** : En anglais, on voit des mots comme \"like\" (aimer) et \"good\" (bien), tandis qu’en japonais, on trouve \"いい\" (bien) et \"思い\" (pensée). Ces mots reflètent l’expression des émotions ou des opinions, fréquente dans les conversations quotidiennes.\n",
    "\n",
    "3. **Particles et mots d’attitude** : Dans le corpus japonais, des particules ou mots d’attitude comme \"けど\" (mais) et \"つい\" (juste, involontairement) sont présents. Cela montre l’importance de l'expression de l’attitude dans le japonais conversationnel, alors qu'en anglais, il n’y a pas d’équivalents directs parmi les mots fréquents. Cela pourrait indiquer une différence structurelle ou d’habitudes d'expression entre les deux langues.\n",
    "\n",
    "4. **Vocabulaire lié aux entreprises** : En anglais, le mot \"company\" (entreprise) est le plus fréquent, et en japonais, \"社\" (entreprise) apparaît également. Cela suggère que ce corpus contient de nombreux dialogues portant sur des situations professionnelles ou commerciales.\n",
    "\n",
    "En résumé, ces mots fréquents reflètent les expressions courantes en anglais et en japonais dans la communication quotidienne et dans les contextes professionnels, avec toutefois des différences dans l’usage des particules et dans l’expression des émotions."
   ]
  },
  {
   "cell_type": "markdown",
   "metadata": {},
   "source": [
    "### longueur Moyenne des Documents"
   ]
  },
  {
   "cell_type": "code",
   "execution_count": 52,
   "metadata": {},
   "outputs": [],
   "source": [
    "import numpy as np\n",
    "\n",
    "def get_avg_length(split):\n",
    "    len_sentences_en = []\n",
    "    len_sentences_ja = []\n",
    "\n",
    "    for item in dataset[split]:\n",
    "        for turn in item[\"conversation\"]:\n",
    "            len_sentences_en.append(len(en_tokenizer.encode(turn['en_sentence'])))\n",
    "            len_sentences_ja.append(len(ja_tokenizer.encode(turn['ja_sentence'])))\n",
    "\n",
    "    avg_len_en = np.mean(len_sentences_en)\n",
    "    avg_len_ja = np.mean(len_sentences_ja)\n",
    "\n",
    "    print(f\"Average English sentence length: {avg_len_en:.2f}\")\n",
    "    print(f\"Average Japanese sentence length: {avg_len_ja:.2f}\")\n",
    "\n",
    "    mdn_len_en = np.median(len_sentences_en)\n",
    "    mdn_len_ja = np.median(len_sentences_ja)\n",
    "\n",
    "    print(f\"Median English sentence length: {mdn_len_en}\")\n",
    "    print(f\"Median Japanese sentence length: {mdn_len_ja}\")\n",
    "\n",
    "    q3_len_en = np.percentile(len_sentences_en, 75)\n",
    "    q3_len_ja = np.percentile(len_sentences_ja, 75)\n",
    "\n",
    "    print(f\"Q3 English sentence length: {q3_len_en}\")\n",
    "    print(f\"Q3 Japanese sentence length: {q3_len_ja}\")\n"
   ]
  },
  {
   "cell_type": "code",
   "execution_count": 53,
   "metadata": {},
   "outputs": [
    {
     "name": "stdout",
     "output_type": "stream",
     "text": [
      "Average English sentence length: 13.68\n",
      "Average Japanese sentence length: 15.86\n",
      "Median English sentence length: 13.0\n",
      "Median Japanese sentence length: 15.0\n",
      "Q3 English sentence length: 17.0\n",
      "Q3 Japanese sentence length: 20.0\n"
     ]
    }
   ],
   "source": [
    "get_avg_length(\"train\")"
   ]
  },
  {
   "cell_type": "markdown",
   "metadata": {},
   "source": [
    "On peut observer quelques caractéristiques intéressantes dans les données statistiques sur la longueur des phrases du corpus :\n",
    "\n",
    "1. **Longueur moyenne des phrases** : La longueur moyenne des phrases en japonais (15,86) est nettement supérieure à celle des phrases en anglais (13,68), ce qui indique que l'expression en japonais est généralement plus prolixe, pouvant contenir davantage d'éléments modificateurs ou de structures de politesse.\n",
    "\n",
    "2. **Médiane et troisième quartile (Q3)** : La médiane des phrases japonaises et le troisième quartile sont respectivement de 15 et 20, qui sont tous deux supérieurs à la médiane de 13 et à la valeur du Q3 de 17 en anglais. Cela démontre encore une fois que la longueur moyenne des phrases japonaises est globalement plus élevée.\n",
    "\n",
    "3. **Différences structurelles entre les langues** : Ces différences de données peuvent refléter les distinctions dans la structure des phrases entre le japonais et l'anglais. Le japonais utilise souvent des phrases complexes plus longues et un vocabulaire de politesse, surtout dans des contextes formels ou professionnels, tandis que l'anglais tend à privilégier des structures de phrases plus courtes.\n",
    "\n",
    "4. **Défis potentiels de traduction** : En raison des différences de longueur des phrases, traduire de l'anglais vers le japonais peut nécessiter d'ajouter certains éléments pour maintenir la politesse ou compléter les informations nécessaires, tandis que traduire du japonais vers l'anglais peut nécessiter de simplifier les phrases pour s'adapter aux habitudes d'expression anglaises.\n",
    "\n",
    "Dans l'ensemble, ces données sur la longueur des phrases reflètent les différences dans la structure syntaxique et le style d'expression entre les deux langues."
   ]
  },
  {
   "cell_type": "markdown",
   "metadata": {},
   "source": [
    "## Qualitative\n",
    "### Exemples Typiques"
   ]
  },
  {
   "cell_type": "code",
   "execution_count": 59,
   "metadata": {},
   "outputs": [
    {
     "name": "stdout",
     "output_type": "stream",
     "text": [
      "Random face-to-face conversation original Japanese:\n",
      "Ms. Takasaka: Hello, My name is Takasaka from A Foods Corporation.\n",
      "高坂さん: すみません、A食品の高坂と申します。\n",
      "\n",
      "Ms. Takasaka: Is Mr. Sakata in the sales planning department available?\n",
      "高坂さん: 営業企画部の坂田さんはいらっしゃいますか？\n",
      "\n",
      "Ms. Nakamura: Good morning, Ms. Takasaka, do you have an appointment with him?\n",
      "中村さん: おはようございます、高坂様、お約束はされていますか？\n",
      "\n",
      "Ms. Takasaka: Yes, at 10 o'clock.\n",
      "高坂さん: はい、１０時に。\n",
      "\n",
      "Ms. Nakamura: Please wait a moment while I check his schedule.\n",
      "中村さん: 只今確認いたしますので、少々お待ち下さい。\n",
      "\n",
      "Ms. Nakamura: Yes, Ms. Takasaka, from A Foods Corporation, at 10 o'clock today.\n",
      "中村さん: はい、A食品の高坂様ですね、本日10時で承っております。\n",
      "\n",
      "Ms. Nakamura: Please go up to Meeting Room 1 on the 24th floor.\n",
      "中村さん: 24階の会議室１へお願いします。\n",
      "\n",
      "Ms. Nakamura: Mr. Sakata will be with you shortly.\n",
      "中村さん: 坂田がすぐにまいります。\n",
      "\n",
      "Ms. Takasaka: Sure.\n",
      "高坂さん: わかりました。\n",
      "\n",
      "Ms. Nakamura: Please use a high-speed elevator on the right at the end of the hallway.\n",
      "中村さん: 通路奥右側の高層階用エレベーターをご利用下さい。\n",
      "\n",
      "Ms. Takasaka: Thank you.\n",
      "高坂さん: ありがとう。\n",
      "\n",
      "Mr. Sakata: Thank you for waiting, Ms. Takasaka.\n",
      "坂田さん: 高坂さん、お待たせしました。\n",
      "\n",
      "Mr. Sakata: I really appreciate your visiting today.\n",
      "坂田さん: 本日はご足労いただきまして、本当にありがとうございます。\n",
      "\n",
      "Mr. Sakata: Would you like some tea or coffee?\n",
      "坂田さん: お茶かコーヒーは如何ですか？\n",
      "\n",
      "Ms. Takasaka: Thanks, I'll have coffee then.\n",
      "高坂さん: じゃ、コーヒーをいただきます。\n",
      "\n",
      "Mr. Sakata: Well, you've mentioned in your email that you'd like to talk about something regarding our presentation last week.\n",
      "坂田さん: 先週のプレゼンに関するお話とメールで伺いましたが。\n",
      "\n",
      "Ms. Takasaka: Yes, we'd like to work with your company on this product renewal that you've proposed.\n",
      "高坂さん: ええ、ご提案頂いたこちらの商品リニューアルを御社と進めたいと考えています。\n",
      "\n",
      "Mr. Sakata: Oh, it's a pleasure, thank you!\n",
      "坂田さん: それは光栄です、ありがとうございます！\n",
      "\n",
      "Mr. Sakata: I'm looking forward to working with you.\n",
      "坂田さん: よろしくお願いいたします。\n",
      "\n",
      "Ms. Takasaka: Likewise.\n",
      "高坂さん: こちらこそ、よろしくお願いします。\n",
      "\n",
      "Ms. Takasaka: By the way, we'd like you to review some data on your document.\n",
      "高坂さん: そこでですね、資料のデータを一部見直して頂きたいんですが。\n",
      "\n",
      "Mr. Sakata: May I ask which data?\n",
      "坂田さん: どちらのデータでしょうか？\n",
      "\n",
      "Ms. Takasaka: Let's see, \"target demographic\" on page 10, it seems further research is needed on elderly.\n",
      "高坂さん: えーと、10ページの「ターゲット層」ですが、シニア層に関する調査が不足しているかと。\n",
      "\n",
      "Mr. Sakata: Ah, you mean this, about \"mature market needs\"?\n",
      "坂田さん: ああ、この「シニア層のニーズ」に関してですね。\n",
      "\n",
      "Ms. Takasaka: That's the one, with a survey of adult day care centers and hospitals.\n",
      "高坂さん: そうです、デイケアと病院の統計がある部分です。\n",
      "\n",
      "Mr. Sakata: We carried out questionnaires at quite many facilities in urban areas for this data, though.\n",
      "坂田さん: こちのデータに関しては、都市部のかなり多数の施設で実施したんですが。\n",
      "\n",
      "Ms. Takasaka: Actually, we believe we can expand into so-called active senior market as well, but this survey doesn't include facilities where those people might gather at.\n",
      "高坂さん: 実は所謂アクティブシニア市場にも進出できると思っているんですが、こちらの統計にはそういう人達が集まりそうな施設が含まれていないんですよ。\n",
      "\n",
      "Mr. Sakata: Ah, that makes sense.\n",
      "坂田さん: ああ、そういう事なんですね。\n",
      "\n",
      "Mr. Sakata: I certainly think that there have been more outgoing older people around.\n",
      "坂田さん: 元気なお年寄りが増えてますもんね。\n",
      "\n",
      "Ms. Takasaka: Yes, those active older adults would most likely spread the word about our products to the wider community.\n",
      "高坂さん: ええ、そういう積極的な高齢者はウチの商品を広範囲に口コミしてくれるんじゃないかと。\n",
      "\n",
      "Mr. Sakata: You're absolutely right.\n",
      "坂田さん: 仰るとおりですね。\n",
      "\n",
      "Mr. Sakata: Then, how about giving out trial samples to older people at places like gyms and open lectures at colleges?\n",
      "坂田さん: では、大学講座やスポーツジムなんかに通うシニア層に試供品提供してみましょうか？\n",
      "\n",
      "Ms. Takasaka: Oh, that seems reasonable.\n",
      "高坂さん: いいですね。\n",
      "\n",
      "Ms. Takasaka: Is it possible to summarize the questionnaire results by the end of the month?\n",
      "高坂さん: 結果を今月末までに纏められますか？\n",
      "\n",
      "Mr. Sakata: Well, I'm afraid I have to check with our marketing department on that.\n",
      "坂田さん: すみません、こちらはマーケティング部に確認が必要なんです。\n",
      "\n",
      "Ms. Takasaka: Oh, okay.\n",
      "高坂さん: そうですか、わかりました。\n",
      "\n",
      "Ms. Takasaka: Could you possibly give me a reply about the schedule by Thursday?\n",
      "高坂さん: できれば木曜日までに予定についてお返事をいただけないでしょうか？\n",
      "\n",
      "Mr. Sakata: I'll be sure to tell them about that and get back to you as soon as possible.\n",
      "坂田さん: その旨必ず伝えまして、なるべく早くお返事いたします。\n",
      "\n",
      "Mr. Sakata: Oh, would you like to have another cup of coffee?\n",
      "坂田さん: あ、コーヒーのおかわりは如何ですか？\n",
      "\n",
      "Ms. Takasaka: Unfortunately, I have one more meeting right after this, so I'll take my leave now.\n",
      "高坂さん: 残念ですが、この後すぐもう一件打ち合わせがありますので、これで失礼させていただきます。\n",
      "\n",
      "Random face-to-face conversation original English:\n",
      "Ms. Elaine Young: Hey Ben, do you have a moment?\n",
      "エレイン ヤンさん: ベンさん、今、少しお時間ございますか？\n",
      "\n",
      "Mr. Ben Sherman: Yeah?\n",
      "ベン シャーマンさん: はい。\n",
      "\n",
      "Ms. Elaine Young: I just got a call from the school and it seems my son is not feeling well.\n",
      "エレイン ヤンさん: 今、学校から電話があって、息子の体調が優れないようなのです。\n",
      "\n",
      "Ms. Elaine Young: Is it okay if I leave before lunch to go pick him up?\n",
      "エレイン ヤンさん: お昼前に早退して、息子を迎えに行っても宜しいでしょうか。\n",
      "\n",
      "Mr. Ben Sherman: Sure that shouldn't be an issue.\n",
      "ベン シャーマンさん: もちろん、特に問題ないと思いますよ。\n",
      "\n",
      "Mr. Ben Sherman: Don't forget to tell Sam as well.\n",
      "ベン シャーマンさん: サムさんにも忘れずに伝えてくださいね。\n",
      "\n",
      "Ms. Elaine Young: Will do.\n",
      "エレイン ヤンさん: 承知しました。\n",
      "\n",
      "Ms. Elaine Young: Sam, can you talk now?\n",
      "エレイン ヤンさん: サムさん、今、お話ししても宜しいでしょうか。\n",
      "\n",
      "Mr. Sam Lee: Yeah sure.\n",
      "サム リーさん: はい、もちろん。\n",
      "\n",
      "Ms. Elaine Young: I'll be taking the afternoon off today to pick up my son.\n",
      "エレイン ヤンさん: 今日の午後はお休みをいただいて、息子を迎えに行って来ます。\n",
      "\n",
      "Ms. Elaine Young: He's apparently not feeling too well.\n",
      "エレイン ヤンさん: 息子の体調が優れないようなのです。\n",
      "\n",
      "Mr. Sam Lee: I guess you won't be able to make it to the meeting this afternoon then.\n",
      "サム リーさん: では、午後の会議には参加出来ないですよね。\n",
      "\n",
      "Ms. Elaine Young: Oh I completely forgot.\n",
      "エレイン ヤンさん: あ、すみません、すっかり忘れていました。\n",
      "\n",
      "Mr. Sam Lee: Don't worry about it.\n",
      "サム リーさん: 心配なさらないでください。\n",
      "\n",
      "Mr. Sam Lee: Company A is just dropping by to say hi and bringing their Christmas gift.\n",
      "サム リーさん: A社の方が挨拶に来てクリスマスのプレゼントを持ってくれるだけですから。\n",
      "\n",
      "Mr. Sam Lee: I can handle it myself.\n",
      "サム リーさん: 私だけで大丈夫です。\n",
      "\n",
      "Ms. Elaine Young: Thank you!\n",
      "エレイン ヤンさん: ありがとうございます。\n",
      "\n"
     ]
    }
   ],
   "source": [
    "import random\n",
    "\n",
    "def get_random_conversation(target_tag, target_language):\n",
    "    filtered_conversations = [\n",
    "        entry['conversation'] for entry in dataset['train']\n",
    "        if entry['tag'] == target_tag and entry['original_language'] == target_language\n",
    "    ]\n",
    "\n",
    "    if filtered_conversations:\n",
    "        random_conversation = random.choice(filtered_conversations)\n",
    "        return random_conversation\n",
    "    else:\n",
    "        raise ValueError(\"No conversation found with the given tag and language\")\n",
    "    \n",
    "\n",
    "def print_conversation(conversation):\n",
    "    for turn in conversation:\n",
    "        print(f\"{turn['en_speaker']}: {turn['en_sentence']}\")\n",
    "        print(f\"{turn['ja_speaker']}: {turn['ja_sentence']}\")\n",
    "        print()\n",
    "\n",
    "print(\"Random face-to-face conversation original Japanese:\")\n",
    "conversation = get_random_conversation(\"face-to-face conversation\", \"ja\")\n",
    "print_conversation(conversation)\n",
    "\n",
    "print(\"Random face-to-face conversation original English:\")\n",
    "conversation = get_random_conversation(\"face-to-face conversation\", \"en\")\n",
    "print_conversation(conversation)"
   ]
  },
  {
   "cell_type": "markdown",
   "metadata": {},
   "source": [
    "#### Exemple 1 (traduction du japonais à l'anglais) :\n",
    "- **Contenu** : Lors d'un entretien, le locuteur exprime sa gratitude pour le temps accordé à l'entretien, en soulignant l'importance de la communication en face à face.\n",
    "- **Caractéristiques** : Format de dialogue, incluant des expressions de politesse et des titres des interlocuteurs (comme \"Ms. Toyama\" et \"Mr. Kishida\").\n",
    "- **Particularités linguistiques** : Utilisation des honorifiques en japonais, reflétant la culture de la politesse et du respect.\n",
    "\n",
    "#### Exemple 2 (traduction de l'anglais au japonais) :\n",
    "- **Contenu** : Dans un environnement de travail, le locuteur discute des besoins d'impression de documents de présentation.\n",
    "- **Caractéristiques** : Dialogue direct, exprimant des besoins spécifiques (comme le nombre de copies, la couleur et la manière de les agrafer).\n",
    "- **Particularités linguistiques** : Comprend un ton naturel de communication quotidienne, adapté à un environnement de travail informel."
   ]
  },
  {
   "cell_type": "markdown",
   "metadata": {},
   "source": [
    "### Difficultés Linguistiques"
   ]
  },
  {
   "cell_type": "markdown",
   "metadata": {},
   "source": [
    "- **Utilisation des honorifiques et non-honorifiques** :\n",
    "  - En japonais, l'utilisation des honorifiques est plus complexe et plus courante qu'en anglais. Cela peut poser des défis aux apprenants de japonais dans la compréhension et l'utilisation des honorifiques.\n",
    "  - Par exemple, dans le premier exemple, “お忙しい中”(prendre du temps sur son emploi du temps chargé) montre le respect du locuteur envers le temps de l’autre, ce qui est plus simple en anglais.\n",
    "\n",
    "- **Différences de vocabulaire et d'expression** :\n",
    "  - En anglais, le locuteur peut utiliser des expressions plus directes, tandis qu’en japonais, il a tendance à adopter un ton plus poli et indirect.\n",
    "  - Dans le deuxième exemple, \"Can you print it and bring it to the meeting room?\" est direct et clair en anglais, tandis qu’en japonais, cela pourrait inclure davantage de formules de politesse.\n",
    "\n",
    "- **Différences culturelles** :\n",
    "  - Les manières d'exprimer la gratitude et de faire des demandes diffèrent selon les cultures. Le japonais accorde plus d'importance aux relations hiérarchiques et aux formalités, tandis que l'anglais privilégie souvent la clarté et la directivité."
   ]
  },
  {
   "cell_type": "markdown",
   "metadata": {},
   "source": [
    "### Caractéristiques Particulières"
   ]
  },
  {
   "cell_type": "markdown",
   "metadata": {},
   "source": [
    "- **Format de dialogue** : Ces deux ensembles de données utilisent un format de dialogue, facilitant la compréhension de l'utilisation du langage dans des situations réelles.\n",
    "- **Diversité contextuelle** :\n",
    "  - Comprend des situations formelles dans un cadre professionnel (exemple 1) et des échanges de travail plus décontractés (exemple 2), montrant la variation du langage selon le contexte.\n",
    "- **Variations de ton** :\n",
    "  - La forme honorifique plus courante en japonais contraste avec le ton direct en anglais, ce qui est très important pour les apprenants afin de comprendre l'utilisation appropriée du langage en fonction des contextes."
   ]
  }
 ],
 "metadata": {
  "kernelspec": {
   "display_name": "sklearn-env",
   "language": "python",
   "name": "python3"
  },
  "language_info": {
   "codemirror_mode": {
    "name": "ipython",
    "version": 3
   },
   "file_extension": ".py",
   "mimetype": "text/x-python",
   "name": "python",
   "nbconvert_exporter": "python",
   "pygments_lexer": "ipython3",
   "version": "3.12.3"
  }
 },
 "nbformat": 4,
 "nbformat_minor": 2
}
